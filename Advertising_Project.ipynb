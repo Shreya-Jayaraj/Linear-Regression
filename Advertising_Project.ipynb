{
  "cells": [
    {
      "cell_type": "markdown",
      "metadata": {
        "id": "view-in-github",
        "colab_type": "text"
      },
      "source": [
        "<a href=\"https://colab.research.google.com/github/Shreya-Jayaraj/Logistic-Regression/blob/main/Advertising_Project.ipynb\" target=\"_parent\"><img src=\"https://colab.research.google.com/assets/colab-badge.svg\" alt=\"Open In Colab\"/></a>"
      ]
    },
    {
      "cell_type": "markdown",
      "metadata": {
        "id": "kqZto7n5r6qG"
      },
      "source": [
        "### **PROJECT BASED ON LOGISTIC REGRESSION**"
      ]
    },
    {
      "cell_type": "markdown",
      "metadata": {
        "id": "lKdaIZnqBwxT"
      },
      "source": [
        "In this project, we are using an advertising dataset.\n",
        "\n",
        "The dataset has the following features:\n",
        "\n",
        "*   Daily Time Spent on Site: consumer time on site in minutes\n",
        "*   Age: cutomer age in years\n",
        "*   Area Income: Avg. Income of geographical area of consumer\n",
        "*   Daily Internet Usage: Avg. minutes a day consumer is on the internet\n",
        "*  Ad Topic Line: Headline of the advertisement\n",
        "*   City: City of consumer\n",
        "*    Male: Whether or not consumer was male. 0 or 1 indicated for female and male respectively\n",
        "*    Country: Country of consumer\n",
        "*    Timestamp: Time at which consumer clicked on Ad or closed window\n",
        "*    Clicked on Ad: whether or not a consumer clicked on the ad or not. 0 or 1 indicated for did not click and clicked respectively\n",
        "\n",
        "The aim is to predict whether a consumer will click the add or not by providing required data.\n",
        "\n",
        "This model can be used by companies to increase their business through advertising."
      ]
    },
    {
      "cell_type": "markdown",
      "metadata": {
        "id": "6CCSsazEAUx2"
      },
      "source": [
        "# Importing the required packages"
      ]
    },
    {
      "cell_type": "code",
      "execution_count": null,
      "metadata": {
        "id": "mxgcaM1n2eqL"
      },
      "outputs": [],
      "source": [
        "import numpy as np\n",
        "import pandas as pd\n",
        "import matplotlib.pyplot as plt"
      ]
    },
    {
      "cell_type": "markdown",
      "metadata": {
        "id": "WTsrGv3OAq8M"
      },
      "source": [
        "# Creating the database"
      ]
    },
    {
      "cell_type": "code",
      "execution_count": null,
      "metadata": {
        "id": "5mtfjL0X3QUQ"
      },
      "outputs": [],
      "source": [
        "path = '/content/advertising.csv'\n",
        "df = pd.read_csv(path)"
      ]
    },
    {
      "cell_type": "markdown",
      "metadata": {
        "id": "CrKjcPgmAwUC"
      },
      "source": [
        "# Exploratory data analysis"
      ]
    },
    {
      "cell_type": "code",
      "execution_count": null,
      "metadata": {
        "colab": {
          "base_uri": "https://localhost:8080/",
          "height": 206
        },
        "id": "SBGyBkNJ3yer",
        "outputId": "c2f1ed2f-2c72-4e95-c191-5e94a9f1eb2a"
      },
      "outputs": [
        {
          "output_type": "execute_result",
          "data": {
            "text/plain": [
              "   Daily Time Spent on Site  Age  Area Income  Daily Internet Usage  \\\n",
              "0                     68.95   35     61833.90                256.09   \n",
              "1                     80.23   31     68441.85                193.77   \n",
              "2                     69.47   26     59785.94                236.50   \n",
              "3                     74.15   29     54806.18                245.89   \n",
              "4                     68.37   35     73889.99                225.58   \n",
              "\n",
              "                           Ad Topic Line            City  Male     Country  \\\n",
              "0     Cloned 5thgeneration orchestration     Wrightburgh     0     Tunisia   \n",
              "1     Monitored national standardization       West Jodi     1       Nauru   \n",
              "2       Organic bottom-line service-desk        Davidton     0  San Marino   \n",
              "3  Triple-buffered reciprocal time-frame  West Terrifurt     1       Italy   \n",
              "4          Robust logistical utilization    South Manuel     0     Iceland   \n",
              "\n",
              "             Timestamp  Clicked on Ad  \n",
              "0  2016-03-27 00:53:11              0  \n",
              "1  2016-04-04 01:39:02              0  \n",
              "2  2016-03-13 20:35:42              0  \n",
              "3  2016-01-10 02:31:19              0  \n",
              "4  2016-06-03 03:36:18              0  "
            ],
            "text/html": [
              "\n",
              "  <div id=\"df-d072031f-3996-4713-8683-cc33c2e17d73\" class=\"colab-df-container\">\n",
              "    <div>\n",
              "<style scoped>\n",
              "    .dataframe tbody tr th:only-of-type {\n",
              "        vertical-align: middle;\n",
              "    }\n",
              "\n",
              "    .dataframe tbody tr th {\n",
              "        vertical-align: top;\n",
              "    }\n",
              "\n",
              "    .dataframe thead th {\n",
              "        text-align: right;\n",
              "    }\n",
              "</style>\n",
              "<table border=\"1\" class=\"dataframe\">\n",
              "  <thead>\n",
              "    <tr style=\"text-align: right;\">\n",
              "      <th></th>\n",
              "      <th>Daily Time Spent on Site</th>\n",
              "      <th>Age</th>\n",
              "      <th>Area Income</th>\n",
              "      <th>Daily Internet Usage</th>\n",
              "      <th>Ad Topic Line</th>\n",
              "      <th>City</th>\n",
              "      <th>Male</th>\n",
              "      <th>Country</th>\n",
              "      <th>Timestamp</th>\n",
              "      <th>Clicked on Ad</th>\n",
              "    </tr>\n",
              "  </thead>\n",
              "  <tbody>\n",
              "    <tr>\n",
              "      <th>0</th>\n",
              "      <td>68.95</td>\n",
              "      <td>35</td>\n",
              "      <td>61833.90</td>\n",
              "      <td>256.09</td>\n",
              "      <td>Cloned 5thgeneration orchestration</td>\n",
              "      <td>Wrightburgh</td>\n",
              "      <td>0</td>\n",
              "      <td>Tunisia</td>\n",
              "      <td>2016-03-27 00:53:11</td>\n",
              "      <td>0</td>\n",
              "    </tr>\n",
              "    <tr>\n",
              "      <th>1</th>\n",
              "      <td>80.23</td>\n",
              "      <td>31</td>\n",
              "      <td>68441.85</td>\n",
              "      <td>193.77</td>\n",
              "      <td>Monitored national standardization</td>\n",
              "      <td>West Jodi</td>\n",
              "      <td>1</td>\n",
              "      <td>Nauru</td>\n",
              "      <td>2016-04-04 01:39:02</td>\n",
              "      <td>0</td>\n",
              "    </tr>\n",
              "    <tr>\n",
              "      <th>2</th>\n",
              "      <td>69.47</td>\n",
              "      <td>26</td>\n",
              "      <td>59785.94</td>\n",
              "      <td>236.50</td>\n",
              "      <td>Organic bottom-line service-desk</td>\n",
              "      <td>Davidton</td>\n",
              "      <td>0</td>\n",
              "      <td>San Marino</td>\n",
              "      <td>2016-03-13 20:35:42</td>\n",
              "      <td>0</td>\n",
              "    </tr>\n",
              "    <tr>\n",
              "      <th>3</th>\n",
              "      <td>74.15</td>\n",
              "      <td>29</td>\n",
              "      <td>54806.18</td>\n",
              "      <td>245.89</td>\n",
              "      <td>Triple-buffered reciprocal time-frame</td>\n",
              "      <td>West Terrifurt</td>\n",
              "      <td>1</td>\n",
              "      <td>Italy</td>\n",
              "      <td>2016-01-10 02:31:19</td>\n",
              "      <td>0</td>\n",
              "    </tr>\n",
              "    <tr>\n",
              "      <th>4</th>\n",
              "      <td>68.37</td>\n",
              "      <td>35</td>\n",
              "      <td>73889.99</td>\n",
              "      <td>225.58</td>\n",
              "      <td>Robust logistical utilization</td>\n",
              "      <td>South Manuel</td>\n",
              "      <td>0</td>\n",
              "      <td>Iceland</td>\n",
              "      <td>2016-06-03 03:36:18</td>\n",
              "      <td>0</td>\n",
              "    </tr>\n",
              "  </tbody>\n",
              "</table>\n",
              "</div>\n",
              "    <div class=\"colab-df-buttons\">\n",
              "\n",
              "  <div class=\"colab-df-container\">\n",
              "    <button class=\"colab-df-convert\" onclick=\"convertToInteractive('df-d072031f-3996-4713-8683-cc33c2e17d73')\"\n",
              "            title=\"Convert this dataframe to an interactive table.\"\n",
              "            style=\"display:none;\">\n",
              "\n",
              "  <svg xmlns=\"http://www.w3.org/2000/svg\" height=\"24px\" viewBox=\"0 -960 960 960\">\n",
              "    <path d=\"M120-120v-720h720v720H120Zm60-500h600v-160H180v160Zm220 220h160v-160H400v160Zm0 220h160v-160H400v160ZM180-400h160v-160H180v160Zm440 0h160v-160H620v160ZM180-180h160v-160H180v160Zm440 0h160v-160H620v160Z\"/>\n",
              "  </svg>\n",
              "    </button>\n",
              "\n",
              "  <style>\n",
              "    .colab-df-container {\n",
              "      display:flex;\n",
              "      gap: 12px;\n",
              "    }\n",
              "\n",
              "    .colab-df-convert {\n",
              "      background-color: #E8F0FE;\n",
              "      border: none;\n",
              "      border-radius: 50%;\n",
              "      cursor: pointer;\n",
              "      display: none;\n",
              "      fill: #1967D2;\n",
              "      height: 32px;\n",
              "      padding: 0 0 0 0;\n",
              "      width: 32px;\n",
              "    }\n",
              "\n",
              "    .colab-df-convert:hover {\n",
              "      background-color: #E2EBFA;\n",
              "      box-shadow: 0px 1px 2px rgba(60, 64, 67, 0.3), 0px 1px 3px 1px rgba(60, 64, 67, 0.15);\n",
              "      fill: #174EA6;\n",
              "    }\n",
              "\n",
              "    .colab-df-buttons div {\n",
              "      margin-bottom: 4px;\n",
              "    }\n",
              "\n",
              "    [theme=dark] .colab-df-convert {\n",
              "      background-color: #3B4455;\n",
              "      fill: #D2E3FC;\n",
              "    }\n",
              "\n",
              "    [theme=dark] .colab-df-convert:hover {\n",
              "      background-color: #434B5C;\n",
              "      box-shadow: 0px 1px 3px 1px rgba(0, 0, 0, 0.15);\n",
              "      filter: drop-shadow(0px 1px 2px rgba(0, 0, 0, 0.3));\n",
              "      fill: #FFFFFF;\n",
              "    }\n",
              "  </style>\n",
              "\n",
              "    <script>\n",
              "      const buttonEl =\n",
              "        document.querySelector('#df-d072031f-3996-4713-8683-cc33c2e17d73 button.colab-df-convert');\n",
              "      buttonEl.style.display =\n",
              "        google.colab.kernel.accessAllowed ? 'block' : 'none';\n",
              "\n",
              "      async function convertToInteractive(key) {\n",
              "        const element = document.querySelector('#df-d072031f-3996-4713-8683-cc33c2e17d73');\n",
              "        const dataTable =\n",
              "          await google.colab.kernel.invokeFunction('convertToInteractive',\n",
              "                                                    [key], {});\n",
              "        if (!dataTable) return;\n",
              "\n",
              "        const docLinkHtml = 'Like what you see? Visit the ' +\n",
              "          '<a target=\"_blank\" href=https://colab.research.google.com/notebooks/data_table.ipynb>data table notebook</a>'\n",
              "          + ' to learn more about interactive tables.';\n",
              "        element.innerHTML = '';\n",
              "        dataTable['output_type'] = 'display_data';\n",
              "        await google.colab.output.renderOutput(dataTable, element);\n",
              "        const docLink = document.createElement('div');\n",
              "        docLink.innerHTML = docLinkHtml;\n",
              "        element.appendChild(docLink);\n",
              "      }\n",
              "    </script>\n",
              "  </div>\n",
              "\n",
              "\n",
              "<div id=\"df-7c95d57c-9792-4acb-a9fb-e3c7febc2b2e\">\n",
              "  <button class=\"colab-df-quickchart\" onclick=\"quickchart('df-7c95d57c-9792-4acb-a9fb-e3c7febc2b2e')\"\n",
              "            title=\"Suggest charts.\"\n",
              "            style=\"display:none;\">\n",
              "\n",
              "<svg xmlns=\"http://www.w3.org/2000/svg\" height=\"24px\"viewBox=\"0 0 24 24\"\n",
              "     width=\"24px\">\n",
              "    <g>\n",
              "        <path d=\"M19 3H5c-1.1 0-2 .9-2 2v14c0 1.1.9 2 2 2h14c1.1 0 2-.9 2-2V5c0-1.1-.9-2-2-2zM9 17H7v-7h2v7zm4 0h-2V7h2v10zm4 0h-2v-4h2v4z\"/>\n",
              "    </g>\n",
              "</svg>\n",
              "  </button>\n",
              "\n",
              "<style>\n",
              "  .colab-df-quickchart {\n",
              "      --bg-color: #E8F0FE;\n",
              "      --fill-color: #1967D2;\n",
              "      --hover-bg-color: #E2EBFA;\n",
              "      --hover-fill-color: #174EA6;\n",
              "      --disabled-fill-color: #AAA;\n",
              "      --disabled-bg-color: #DDD;\n",
              "  }\n",
              "\n",
              "  [theme=dark] .colab-df-quickchart {\n",
              "      --bg-color: #3B4455;\n",
              "      --fill-color: #D2E3FC;\n",
              "      --hover-bg-color: #434B5C;\n",
              "      --hover-fill-color: #FFFFFF;\n",
              "      --disabled-bg-color: #3B4455;\n",
              "      --disabled-fill-color: #666;\n",
              "  }\n",
              "\n",
              "  .colab-df-quickchart {\n",
              "    background-color: var(--bg-color);\n",
              "    border: none;\n",
              "    border-radius: 50%;\n",
              "    cursor: pointer;\n",
              "    display: none;\n",
              "    fill: var(--fill-color);\n",
              "    height: 32px;\n",
              "    padding: 0;\n",
              "    width: 32px;\n",
              "  }\n",
              "\n",
              "  .colab-df-quickchart:hover {\n",
              "    background-color: var(--hover-bg-color);\n",
              "    box-shadow: 0 1px 2px rgba(60, 64, 67, 0.3), 0 1px 3px 1px rgba(60, 64, 67, 0.15);\n",
              "    fill: var(--button-hover-fill-color);\n",
              "  }\n",
              "\n",
              "  .colab-df-quickchart-complete:disabled,\n",
              "  .colab-df-quickchart-complete:disabled:hover {\n",
              "    background-color: var(--disabled-bg-color);\n",
              "    fill: var(--disabled-fill-color);\n",
              "    box-shadow: none;\n",
              "  }\n",
              "\n",
              "  .colab-df-spinner {\n",
              "    border: 2px solid var(--fill-color);\n",
              "    border-color: transparent;\n",
              "    border-bottom-color: var(--fill-color);\n",
              "    animation:\n",
              "      spin 1s steps(1) infinite;\n",
              "  }\n",
              "\n",
              "  @keyframes spin {\n",
              "    0% {\n",
              "      border-color: transparent;\n",
              "      border-bottom-color: var(--fill-color);\n",
              "      border-left-color: var(--fill-color);\n",
              "    }\n",
              "    20% {\n",
              "      border-color: transparent;\n",
              "      border-left-color: var(--fill-color);\n",
              "      border-top-color: var(--fill-color);\n",
              "    }\n",
              "    30% {\n",
              "      border-color: transparent;\n",
              "      border-left-color: var(--fill-color);\n",
              "      border-top-color: var(--fill-color);\n",
              "      border-right-color: var(--fill-color);\n",
              "    }\n",
              "    40% {\n",
              "      border-color: transparent;\n",
              "      border-right-color: var(--fill-color);\n",
              "      border-top-color: var(--fill-color);\n",
              "    }\n",
              "    60% {\n",
              "      border-color: transparent;\n",
              "      border-right-color: var(--fill-color);\n",
              "    }\n",
              "    80% {\n",
              "      border-color: transparent;\n",
              "      border-right-color: var(--fill-color);\n",
              "      border-bottom-color: var(--fill-color);\n",
              "    }\n",
              "    90% {\n",
              "      border-color: transparent;\n",
              "      border-bottom-color: var(--fill-color);\n",
              "    }\n",
              "  }\n",
              "</style>\n",
              "\n",
              "  <script>\n",
              "    async function quickchart(key) {\n",
              "      const quickchartButtonEl =\n",
              "        document.querySelector('#' + key + ' button');\n",
              "      quickchartButtonEl.disabled = true;  // To prevent multiple clicks.\n",
              "      quickchartButtonEl.classList.add('colab-df-spinner');\n",
              "      try {\n",
              "        const charts = await google.colab.kernel.invokeFunction(\n",
              "            'suggestCharts', [key], {});\n",
              "      } catch (error) {\n",
              "        console.error('Error during call to suggestCharts:', error);\n",
              "      }\n",
              "      quickchartButtonEl.classList.remove('colab-df-spinner');\n",
              "      quickchartButtonEl.classList.add('colab-df-quickchart-complete');\n",
              "    }\n",
              "    (() => {\n",
              "      let quickchartButtonEl =\n",
              "        document.querySelector('#df-7c95d57c-9792-4acb-a9fb-e3c7febc2b2e button');\n",
              "      quickchartButtonEl.style.display =\n",
              "        google.colab.kernel.accessAllowed ? 'block' : 'none';\n",
              "    })();\n",
              "  </script>\n",
              "</div>\n",
              "    </div>\n",
              "  </div>\n"
            ]
          },
          "metadata": {},
          "execution_count": 4
        }
      ],
      "source": [
        "df.head()"
      ]
    },
    {
      "cell_type": "code",
      "execution_count": null,
      "metadata": {
        "colab": {
          "base_uri": "https://localhost:8080/",
          "height": 310
        },
        "id": "nhyJMv-zZaxg",
        "outputId": "b29c64c6-fdbf-4aab-8c33-023b241d58fe"
      },
      "outputs": [
        {
          "output_type": "execute_result",
          "data": {
            "text/plain": [
              "     Daily Time Spent on Site  Age  Area Income  Daily Internet Usage  \\\n",
              "995                     72.97   30     71384.57                208.58   \n",
              "996                     51.30   45     67782.17                134.42   \n",
              "997                     51.63   51     42415.72                120.37   \n",
              "998                     55.55   19     41920.79                187.95   \n",
              "999                     45.01   26     29875.80                178.35   \n",
              "\n",
              "                            Ad Topic Line           City  Male  \\\n",
              "995         Fundamental modular algorithm      Duffystad     1   \n",
              "996       Grass-roots cohesive monitoring    New Darlene     1   \n",
              "997          Expanded intangible solution  South Jessica     1   \n",
              "998  Proactive bandwidth-monitored policy    West Steven     0   \n",
              "999       Virtual 5thgeneration emulation    Ronniemouth     0   \n",
              "\n",
              "                    Country            Timestamp  Clicked on Ad  \n",
              "995                 Lebanon  2016-02-11 21:49:00              1  \n",
              "996  Bosnia and Herzegovina  2016-04-22 02:07:01              1  \n",
              "997                Mongolia  2016-02-01 17:24:57              1  \n",
              "998               Guatemala  2016-03-24 02:35:54              0  \n",
              "999                  Brazil  2016-06-03 21:43:21              1  "
            ],
            "text/html": [
              "\n",
              "  <div id=\"df-7636c6c1-3687-4ed1-89c8-5845363b2e05\" class=\"colab-df-container\">\n",
              "    <div>\n",
              "<style scoped>\n",
              "    .dataframe tbody tr th:only-of-type {\n",
              "        vertical-align: middle;\n",
              "    }\n",
              "\n",
              "    .dataframe tbody tr th {\n",
              "        vertical-align: top;\n",
              "    }\n",
              "\n",
              "    .dataframe thead th {\n",
              "        text-align: right;\n",
              "    }\n",
              "</style>\n",
              "<table border=\"1\" class=\"dataframe\">\n",
              "  <thead>\n",
              "    <tr style=\"text-align: right;\">\n",
              "      <th></th>\n",
              "      <th>Daily Time Spent on Site</th>\n",
              "      <th>Age</th>\n",
              "      <th>Area Income</th>\n",
              "      <th>Daily Internet Usage</th>\n",
              "      <th>Ad Topic Line</th>\n",
              "      <th>City</th>\n",
              "      <th>Male</th>\n",
              "      <th>Country</th>\n",
              "      <th>Timestamp</th>\n",
              "      <th>Clicked on Ad</th>\n",
              "    </tr>\n",
              "  </thead>\n",
              "  <tbody>\n",
              "    <tr>\n",
              "      <th>995</th>\n",
              "      <td>72.97</td>\n",
              "      <td>30</td>\n",
              "      <td>71384.57</td>\n",
              "      <td>208.58</td>\n",
              "      <td>Fundamental modular algorithm</td>\n",
              "      <td>Duffystad</td>\n",
              "      <td>1</td>\n",
              "      <td>Lebanon</td>\n",
              "      <td>2016-02-11 21:49:00</td>\n",
              "      <td>1</td>\n",
              "    </tr>\n",
              "    <tr>\n",
              "      <th>996</th>\n",
              "      <td>51.30</td>\n",
              "      <td>45</td>\n",
              "      <td>67782.17</td>\n",
              "      <td>134.42</td>\n",
              "      <td>Grass-roots cohesive monitoring</td>\n",
              "      <td>New Darlene</td>\n",
              "      <td>1</td>\n",
              "      <td>Bosnia and Herzegovina</td>\n",
              "      <td>2016-04-22 02:07:01</td>\n",
              "      <td>1</td>\n",
              "    </tr>\n",
              "    <tr>\n",
              "      <th>997</th>\n",
              "      <td>51.63</td>\n",
              "      <td>51</td>\n",
              "      <td>42415.72</td>\n",
              "      <td>120.37</td>\n",
              "      <td>Expanded intangible solution</td>\n",
              "      <td>South Jessica</td>\n",
              "      <td>1</td>\n",
              "      <td>Mongolia</td>\n",
              "      <td>2016-02-01 17:24:57</td>\n",
              "      <td>1</td>\n",
              "    </tr>\n",
              "    <tr>\n",
              "      <th>998</th>\n",
              "      <td>55.55</td>\n",
              "      <td>19</td>\n",
              "      <td>41920.79</td>\n",
              "      <td>187.95</td>\n",
              "      <td>Proactive bandwidth-monitored policy</td>\n",
              "      <td>West Steven</td>\n",
              "      <td>0</td>\n",
              "      <td>Guatemala</td>\n",
              "      <td>2016-03-24 02:35:54</td>\n",
              "      <td>0</td>\n",
              "    </tr>\n",
              "    <tr>\n",
              "      <th>999</th>\n",
              "      <td>45.01</td>\n",
              "      <td>26</td>\n",
              "      <td>29875.80</td>\n",
              "      <td>178.35</td>\n",
              "      <td>Virtual 5thgeneration emulation</td>\n",
              "      <td>Ronniemouth</td>\n",
              "      <td>0</td>\n",
              "      <td>Brazil</td>\n",
              "      <td>2016-06-03 21:43:21</td>\n",
              "      <td>1</td>\n",
              "    </tr>\n",
              "  </tbody>\n",
              "</table>\n",
              "</div>\n",
              "    <div class=\"colab-df-buttons\">\n",
              "\n",
              "  <div class=\"colab-df-container\">\n",
              "    <button class=\"colab-df-convert\" onclick=\"convertToInteractive('df-7636c6c1-3687-4ed1-89c8-5845363b2e05')\"\n",
              "            title=\"Convert this dataframe to an interactive table.\"\n",
              "            style=\"display:none;\">\n",
              "\n",
              "  <svg xmlns=\"http://www.w3.org/2000/svg\" height=\"24px\" viewBox=\"0 -960 960 960\">\n",
              "    <path d=\"M120-120v-720h720v720H120Zm60-500h600v-160H180v160Zm220 220h160v-160H400v160Zm0 220h160v-160H400v160ZM180-400h160v-160H180v160Zm440 0h160v-160H620v160ZM180-180h160v-160H180v160Zm440 0h160v-160H620v160Z\"/>\n",
              "  </svg>\n",
              "    </button>\n",
              "\n",
              "  <style>\n",
              "    .colab-df-container {\n",
              "      display:flex;\n",
              "      gap: 12px;\n",
              "    }\n",
              "\n",
              "    .colab-df-convert {\n",
              "      background-color: #E8F0FE;\n",
              "      border: none;\n",
              "      border-radius: 50%;\n",
              "      cursor: pointer;\n",
              "      display: none;\n",
              "      fill: #1967D2;\n",
              "      height: 32px;\n",
              "      padding: 0 0 0 0;\n",
              "      width: 32px;\n",
              "    }\n",
              "\n",
              "    .colab-df-convert:hover {\n",
              "      background-color: #E2EBFA;\n",
              "      box-shadow: 0px 1px 2px rgba(60, 64, 67, 0.3), 0px 1px 3px 1px rgba(60, 64, 67, 0.15);\n",
              "      fill: #174EA6;\n",
              "    }\n",
              "\n",
              "    .colab-df-buttons div {\n",
              "      margin-bottom: 4px;\n",
              "    }\n",
              "\n",
              "    [theme=dark] .colab-df-convert {\n",
              "      background-color: #3B4455;\n",
              "      fill: #D2E3FC;\n",
              "    }\n",
              "\n",
              "    [theme=dark] .colab-df-convert:hover {\n",
              "      background-color: #434B5C;\n",
              "      box-shadow: 0px 1px 3px 1px rgba(0, 0, 0, 0.15);\n",
              "      filter: drop-shadow(0px 1px 2px rgba(0, 0, 0, 0.3));\n",
              "      fill: #FFFFFF;\n",
              "    }\n",
              "  </style>\n",
              "\n",
              "    <script>\n",
              "      const buttonEl =\n",
              "        document.querySelector('#df-7636c6c1-3687-4ed1-89c8-5845363b2e05 button.colab-df-convert');\n",
              "      buttonEl.style.display =\n",
              "        google.colab.kernel.accessAllowed ? 'block' : 'none';\n",
              "\n",
              "      async function convertToInteractive(key) {\n",
              "        const element = document.querySelector('#df-7636c6c1-3687-4ed1-89c8-5845363b2e05');\n",
              "        const dataTable =\n",
              "          await google.colab.kernel.invokeFunction('convertToInteractive',\n",
              "                                                    [key], {});\n",
              "        if (!dataTable) return;\n",
              "\n",
              "        const docLinkHtml = 'Like what you see? Visit the ' +\n",
              "          '<a target=\"_blank\" href=https://colab.research.google.com/notebooks/data_table.ipynb>data table notebook</a>'\n",
              "          + ' to learn more about interactive tables.';\n",
              "        element.innerHTML = '';\n",
              "        dataTable['output_type'] = 'display_data';\n",
              "        await google.colab.output.renderOutput(dataTable, element);\n",
              "        const docLink = document.createElement('div');\n",
              "        docLink.innerHTML = docLinkHtml;\n",
              "        element.appendChild(docLink);\n",
              "      }\n",
              "    </script>\n",
              "  </div>\n",
              "\n",
              "\n",
              "<div id=\"df-27a3fc1f-9771-4cde-93c7-c265e74cb4cb\">\n",
              "  <button class=\"colab-df-quickchart\" onclick=\"quickchart('df-27a3fc1f-9771-4cde-93c7-c265e74cb4cb')\"\n",
              "            title=\"Suggest charts.\"\n",
              "            style=\"display:none;\">\n",
              "\n",
              "<svg xmlns=\"http://www.w3.org/2000/svg\" height=\"24px\"viewBox=\"0 0 24 24\"\n",
              "     width=\"24px\">\n",
              "    <g>\n",
              "        <path d=\"M19 3H5c-1.1 0-2 .9-2 2v14c0 1.1.9 2 2 2h14c1.1 0 2-.9 2-2V5c0-1.1-.9-2-2-2zM9 17H7v-7h2v7zm4 0h-2V7h2v10zm4 0h-2v-4h2v4z\"/>\n",
              "    </g>\n",
              "</svg>\n",
              "  </button>\n",
              "\n",
              "<style>\n",
              "  .colab-df-quickchart {\n",
              "      --bg-color: #E8F0FE;\n",
              "      --fill-color: #1967D2;\n",
              "      --hover-bg-color: #E2EBFA;\n",
              "      --hover-fill-color: #174EA6;\n",
              "      --disabled-fill-color: #AAA;\n",
              "      --disabled-bg-color: #DDD;\n",
              "  }\n",
              "\n",
              "  [theme=dark] .colab-df-quickchart {\n",
              "      --bg-color: #3B4455;\n",
              "      --fill-color: #D2E3FC;\n",
              "      --hover-bg-color: #434B5C;\n",
              "      --hover-fill-color: #FFFFFF;\n",
              "      --disabled-bg-color: #3B4455;\n",
              "      --disabled-fill-color: #666;\n",
              "  }\n",
              "\n",
              "  .colab-df-quickchart {\n",
              "    background-color: var(--bg-color);\n",
              "    border: none;\n",
              "    border-radius: 50%;\n",
              "    cursor: pointer;\n",
              "    display: none;\n",
              "    fill: var(--fill-color);\n",
              "    height: 32px;\n",
              "    padding: 0;\n",
              "    width: 32px;\n",
              "  }\n",
              "\n",
              "  .colab-df-quickchart:hover {\n",
              "    background-color: var(--hover-bg-color);\n",
              "    box-shadow: 0 1px 2px rgba(60, 64, 67, 0.3), 0 1px 3px 1px rgba(60, 64, 67, 0.15);\n",
              "    fill: var(--button-hover-fill-color);\n",
              "  }\n",
              "\n",
              "  .colab-df-quickchart-complete:disabled,\n",
              "  .colab-df-quickchart-complete:disabled:hover {\n",
              "    background-color: var(--disabled-bg-color);\n",
              "    fill: var(--disabled-fill-color);\n",
              "    box-shadow: none;\n",
              "  }\n",
              "\n",
              "  .colab-df-spinner {\n",
              "    border: 2px solid var(--fill-color);\n",
              "    border-color: transparent;\n",
              "    border-bottom-color: var(--fill-color);\n",
              "    animation:\n",
              "      spin 1s steps(1) infinite;\n",
              "  }\n",
              "\n",
              "  @keyframes spin {\n",
              "    0% {\n",
              "      border-color: transparent;\n",
              "      border-bottom-color: var(--fill-color);\n",
              "      border-left-color: var(--fill-color);\n",
              "    }\n",
              "    20% {\n",
              "      border-color: transparent;\n",
              "      border-left-color: var(--fill-color);\n",
              "      border-top-color: var(--fill-color);\n",
              "    }\n",
              "    30% {\n",
              "      border-color: transparent;\n",
              "      border-left-color: var(--fill-color);\n",
              "      border-top-color: var(--fill-color);\n",
              "      border-right-color: var(--fill-color);\n",
              "    }\n",
              "    40% {\n",
              "      border-color: transparent;\n",
              "      border-right-color: var(--fill-color);\n",
              "      border-top-color: var(--fill-color);\n",
              "    }\n",
              "    60% {\n",
              "      border-color: transparent;\n",
              "      border-right-color: var(--fill-color);\n",
              "    }\n",
              "    80% {\n",
              "      border-color: transparent;\n",
              "      border-right-color: var(--fill-color);\n",
              "      border-bottom-color: var(--fill-color);\n",
              "    }\n",
              "    90% {\n",
              "      border-color: transparent;\n",
              "      border-bottom-color: var(--fill-color);\n",
              "    }\n",
              "  }\n",
              "</style>\n",
              "\n",
              "  <script>\n",
              "    async function quickchart(key) {\n",
              "      const quickchartButtonEl =\n",
              "        document.querySelector('#' + key + ' button');\n",
              "      quickchartButtonEl.disabled = true;  // To prevent multiple clicks.\n",
              "      quickchartButtonEl.classList.add('colab-df-spinner');\n",
              "      try {\n",
              "        const charts = await google.colab.kernel.invokeFunction(\n",
              "            'suggestCharts', [key], {});\n",
              "      } catch (error) {\n",
              "        console.error('Error during call to suggestCharts:', error);\n",
              "      }\n",
              "      quickchartButtonEl.classList.remove('colab-df-spinner');\n",
              "      quickchartButtonEl.classList.add('colab-df-quickchart-complete');\n",
              "    }\n",
              "    (() => {\n",
              "      let quickchartButtonEl =\n",
              "        document.querySelector('#df-27a3fc1f-9771-4cde-93c7-c265e74cb4cb button');\n",
              "      quickchartButtonEl.style.display =\n",
              "        google.colab.kernel.accessAllowed ? 'block' : 'none';\n",
              "    })();\n",
              "  </script>\n",
              "</div>\n",
              "    </div>\n",
              "  </div>\n"
            ]
          },
          "metadata": {},
          "execution_count": 5
        }
      ],
      "source": [
        "df.tail()"
      ]
    },
    {
      "cell_type": "code",
      "execution_count": null,
      "metadata": {
        "colab": {
          "base_uri": "https://localhost:8080/"
        },
        "id": "mq0bNSoL3zfL",
        "outputId": "30be87a4-e88f-476d-f8cf-77046c92305d"
      },
      "outputs": [
        {
          "output_type": "execute_result",
          "data": {
            "text/plain": [
              "(1000, 10)"
            ]
          },
          "metadata": {},
          "execution_count": 6
        }
      ],
      "source": [
        "df.shape"
      ]
    },
    {
      "cell_type": "code",
      "execution_count": null,
      "metadata": {
        "colab": {
          "base_uri": "https://localhost:8080/"
        },
        "id": "0AG7EefI346z",
        "outputId": "9d4400c5-bcc2-4da7-cebc-88148c488eda"
      },
      "outputs": [
        {
          "output_type": "stream",
          "name": "stdout",
          "text": [
            "<class 'pandas.core.frame.DataFrame'>\n",
            "RangeIndex: 1000 entries, 0 to 999\n",
            "Data columns (total 10 columns):\n",
            " #   Column                    Non-Null Count  Dtype  \n",
            "---  ------                    --------------  -----  \n",
            " 0   Daily Time Spent on Site  1000 non-null   float64\n",
            " 1   Age                       1000 non-null   int64  \n",
            " 2   Area Income               1000 non-null   float64\n",
            " 3   Daily Internet Usage      1000 non-null   float64\n",
            " 4   Ad Topic Line             1000 non-null   object \n",
            " 5   City                      1000 non-null   object \n",
            " 6   Male                      1000 non-null   int64  \n",
            " 7   Country                   1000 non-null   object \n",
            " 8   Timestamp                 1000 non-null   object \n",
            " 9   Clicked on Ad             1000 non-null   int64  \n",
            "dtypes: float64(3), int64(3), object(4)\n",
            "memory usage: 78.2+ KB\n"
          ]
        }
      ],
      "source": [
        "df.info()"
      ]
    },
    {
      "cell_type": "code",
      "execution_count": null,
      "metadata": {
        "colab": {
          "base_uri": "https://localhost:8080/",
          "height": 300
        },
        "id": "GVVBeA1d36a_",
        "outputId": "37058dcd-81c1-4212-d24a-3152ac46a164"
      },
      "outputs": [
        {
          "output_type": "execute_result",
          "data": {
            "text/plain": [
              "       Daily Time Spent on Site          Age   Area Income  \\\n",
              "count               1000.000000  1000.000000   1000.000000   \n",
              "mean                  65.000200    36.009000  55000.000080   \n",
              "std                   15.853615     8.785562  13414.634022   \n",
              "min                   32.600000    19.000000  13996.500000   \n",
              "25%                   51.360000    29.000000  47031.802500   \n",
              "50%                   68.215000    35.000000  57012.300000   \n",
              "75%                   78.547500    42.000000  65470.635000   \n",
              "max                   91.430000    61.000000  79484.800000   \n",
              "\n",
              "       Daily Internet Usage         Male  Clicked on Ad  \n",
              "count           1000.000000  1000.000000     1000.00000  \n",
              "mean             180.000100     0.481000        0.50000  \n",
              "std               43.902339     0.499889        0.50025  \n",
              "min              104.780000     0.000000        0.00000  \n",
              "25%              138.830000     0.000000        0.00000  \n",
              "50%              183.130000     0.000000        0.50000  \n",
              "75%              218.792500     1.000000        1.00000  \n",
              "max              269.960000     1.000000        1.00000  "
            ],
            "text/html": [
              "\n",
              "  <div id=\"df-5f3c66a2-7141-4576-8304-244b19dd497e\" class=\"colab-df-container\">\n",
              "    <div>\n",
              "<style scoped>\n",
              "    .dataframe tbody tr th:only-of-type {\n",
              "        vertical-align: middle;\n",
              "    }\n",
              "\n",
              "    .dataframe tbody tr th {\n",
              "        vertical-align: top;\n",
              "    }\n",
              "\n",
              "    .dataframe thead th {\n",
              "        text-align: right;\n",
              "    }\n",
              "</style>\n",
              "<table border=\"1\" class=\"dataframe\">\n",
              "  <thead>\n",
              "    <tr style=\"text-align: right;\">\n",
              "      <th></th>\n",
              "      <th>Daily Time Spent on Site</th>\n",
              "      <th>Age</th>\n",
              "      <th>Area Income</th>\n",
              "      <th>Daily Internet Usage</th>\n",
              "      <th>Male</th>\n",
              "      <th>Clicked on Ad</th>\n",
              "    </tr>\n",
              "  </thead>\n",
              "  <tbody>\n",
              "    <tr>\n",
              "      <th>count</th>\n",
              "      <td>1000.000000</td>\n",
              "      <td>1000.000000</td>\n",
              "      <td>1000.000000</td>\n",
              "      <td>1000.000000</td>\n",
              "      <td>1000.000000</td>\n",
              "      <td>1000.00000</td>\n",
              "    </tr>\n",
              "    <tr>\n",
              "      <th>mean</th>\n",
              "      <td>65.000200</td>\n",
              "      <td>36.009000</td>\n",
              "      <td>55000.000080</td>\n",
              "      <td>180.000100</td>\n",
              "      <td>0.481000</td>\n",
              "      <td>0.50000</td>\n",
              "    </tr>\n",
              "    <tr>\n",
              "      <th>std</th>\n",
              "      <td>15.853615</td>\n",
              "      <td>8.785562</td>\n",
              "      <td>13414.634022</td>\n",
              "      <td>43.902339</td>\n",
              "      <td>0.499889</td>\n",
              "      <td>0.50025</td>\n",
              "    </tr>\n",
              "    <tr>\n",
              "      <th>min</th>\n",
              "      <td>32.600000</td>\n",
              "      <td>19.000000</td>\n",
              "      <td>13996.500000</td>\n",
              "      <td>104.780000</td>\n",
              "      <td>0.000000</td>\n",
              "      <td>0.00000</td>\n",
              "    </tr>\n",
              "    <tr>\n",
              "      <th>25%</th>\n",
              "      <td>51.360000</td>\n",
              "      <td>29.000000</td>\n",
              "      <td>47031.802500</td>\n",
              "      <td>138.830000</td>\n",
              "      <td>0.000000</td>\n",
              "      <td>0.00000</td>\n",
              "    </tr>\n",
              "    <tr>\n",
              "      <th>50%</th>\n",
              "      <td>68.215000</td>\n",
              "      <td>35.000000</td>\n",
              "      <td>57012.300000</td>\n",
              "      <td>183.130000</td>\n",
              "      <td>0.000000</td>\n",
              "      <td>0.50000</td>\n",
              "    </tr>\n",
              "    <tr>\n",
              "      <th>75%</th>\n",
              "      <td>78.547500</td>\n",
              "      <td>42.000000</td>\n",
              "      <td>65470.635000</td>\n",
              "      <td>218.792500</td>\n",
              "      <td>1.000000</td>\n",
              "      <td>1.00000</td>\n",
              "    </tr>\n",
              "    <tr>\n",
              "      <th>max</th>\n",
              "      <td>91.430000</td>\n",
              "      <td>61.000000</td>\n",
              "      <td>79484.800000</td>\n",
              "      <td>269.960000</td>\n",
              "      <td>1.000000</td>\n",
              "      <td>1.00000</td>\n",
              "    </tr>\n",
              "  </tbody>\n",
              "</table>\n",
              "</div>\n",
              "    <div class=\"colab-df-buttons\">\n",
              "\n",
              "  <div class=\"colab-df-container\">\n",
              "    <button class=\"colab-df-convert\" onclick=\"convertToInteractive('df-5f3c66a2-7141-4576-8304-244b19dd497e')\"\n",
              "            title=\"Convert this dataframe to an interactive table.\"\n",
              "            style=\"display:none;\">\n",
              "\n",
              "  <svg xmlns=\"http://www.w3.org/2000/svg\" height=\"24px\" viewBox=\"0 -960 960 960\">\n",
              "    <path d=\"M120-120v-720h720v720H120Zm60-500h600v-160H180v160Zm220 220h160v-160H400v160Zm0 220h160v-160H400v160ZM180-400h160v-160H180v160Zm440 0h160v-160H620v160ZM180-180h160v-160H180v160Zm440 0h160v-160H620v160Z\"/>\n",
              "  </svg>\n",
              "    </button>\n",
              "\n",
              "  <style>\n",
              "    .colab-df-container {\n",
              "      display:flex;\n",
              "      gap: 12px;\n",
              "    }\n",
              "\n",
              "    .colab-df-convert {\n",
              "      background-color: #E8F0FE;\n",
              "      border: none;\n",
              "      border-radius: 50%;\n",
              "      cursor: pointer;\n",
              "      display: none;\n",
              "      fill: #1967D2;\n",
              "      height: 32px;\n",
              "      padding: 0 0 0 0;\n",
              "      width: 32px;\n",
              "    }\n",
              "\n",
              "    .colab-df-convert:hover {\n",
              "      background-color: #E2EBFA;\n",
              "      box-shadow: 0px 1px 2px rgba(60, 64, 67, 0.3), 0px 1px 3px 1px rgba(60, 64, 67, 0.15);\n",
              "      fill: #174EA6;\n",
              "    }\n",
              "\n",
              "    .colab-df-buttons div {\n",
              "      margin-bottom: 4px;\n",
              "    }\n",
              "\n",
              "    [theme=dark] .colab-df-convert {\n",
              "      background-color: #3B4455;\n",
              "      fill: #D2E3FC;\n",
              "    }\n",
              "\n",
              "    [theme=dark] .colab-df-convert:hover {\n",
              "      background-color: #434B5C;\n",
              "      box-shadow: 0px 1px 3px 1px rgba(0, 0, 0, 0.15);\n",
              "      filter: drop-shadow(0px 1px 2px rgba(0, 0, 0, 0.3));\n",
              "      fill: #FFFFFF;\n",
              "    }\n",
              "  </style>\n",
              "\n",
              "    <script>\n",
              "      const buttonEl =\n",
              "        document.querySelector('#df-5f3c66a2-7141-4576-8304-244b19dd497e button.colab-df-convert');\n",
              "      buttonEl.style.display =\n",
              "        google.colab.kernel.accessAllowed ? 'block' : 'none';\n",
              "\n",
              "      async function convertToInteractive(key) {\n",
              "        const element = document.querySelector('#df-5f3c66a2-7141-4576-8304-244b19dd497e');\n",
              "        const dataTable =\n",
              "          await google.colab.kernel.invokeFunction('convertToInteractive',\n",
              "                                                    [key], {});\n",
              "        if (!dataTable) return;\n",
              "\n",
              "        const docLinkHtml = 'Like what you see? Visit the ' +\n",
              "          '<a target=\"_blank\" href=https://colab.research.google.com/notebooks/data_table.ipynb>data table notebook</a>'\n",
              "          + ' to learn more about interactive tables.';\n",
              "        element.innerHTML = '';\n",
              "        dataTable['output_type'] = 'display_data';\n",
              "        await google.colab.output.renderOutput(dataTable, element);\n",
              "        const docLink = document.createElement('div');\n",
              "        docLink.innerHTML = docLinkHtml;\n",
              "        element.appendChild(docLink);\n",
              "      }\n",
              "    </script>\n",
              "  </div>\n",
              "\n",
              "\n",
              "<div id=\"df-b7565eeb-270d-4920-b846-0ab581d2ba39\">\n",
              "  <button class=\"colab-df-quickchart\" onclick=\"quickchart('df-b7565eeb-270d-4920-b846-0ab581d2ba39')\"\n",
              "            title=\"Suggest charts.\"\n",
              "            style=\"display:none;\">\n",
              "\n",
              "<svg xmlns=\"http://www.w3.org/2000/svg\" height=\"24px\"viewBox=\"0 0 24 24\"\n",
              "     width=\"24px\">\n",
              "    <g>\n",
              "        <path d=\"M19 3H5c-1.1 0-2 .9-2 2v14c0 1.1.9 2 2 2h14c1.1 0 2-.9 2-2V5c0-1.1-.9-2-2-2zM9 17H7v-7h2v7zm4 0h-2V7h2v10zm4 0h-2v-4h2v4z\"/>\n",
              "    </g>\n",
              "</svg>\n",
              "  </button>\n",
              "\n",
              "<style>\n",
              "  .colab-df-quickchart {\n",
              "      --bg-color: #E8F0FE;\n",
              "      --fill-color: #1967D2;\n",
              "      --hover-bg-color: #E2EBFA;\n",
              "      --hover-fill-color: #174EA6;\n",
              "      --disabled-fill-color: #AAA;\n",
              "      --disabled-bg-color: #DDD;\n",
              "  }\n",
              "\n",
              "  [theme=dark] .colab-df-quickchart {\n",
              "      --bg-color: #3B4455;\n",
              "      --fill-color: #D2E3FC;\n",
              "      --hover-bg-color: #434B5C;\n",
              "      --hover-fill-color: #FFFFFF;\n",
              "      --disabled-bg-color: #3B4455;\n",
              "      --disabled-fill-color: #666;\n",
              "  }\n",
              "\n",
              "  .colab-df-quickchart {\n",
              "    background-color: var(--bg-color);\n",
              "    border: none;\n",
              "    border-radius: 50%;\n",
              "    cursor: pointer;\n",
              "    display: none;\n",
              "    fill: var(--fill-color);\n",
              "    height: 32px;\n",
              "    padding: 0;\n",
              "    width: 32px;\n",
              "  }\n",
              "\n",
              "  .colab-df-quickchart:hover {\n",
              "    background-color: var(--hover-bg-color);\n",
              "    box-shadow: 0 1px 2px rgba(60, 64, 67, 0.3), 0 1px 3px 1px rgba(60, 64, 67, 0.15);\n",
              "    fill: var(--button-hover-fill-color);\n",
              "  }\n",
              "\n",
              "  .colab-df-quickchart-complete:disabled,\n",
              "  .colab-df-quickchart-complete:disabled:hover {\n",
              "    background-color: var(--disabled-bg-color);\n",
              "    fill: var(--disabled-fill-color);\n",
              "    box-shadow: none;\n",
              "  }\n",
              "\n",
              "  .colab-df-spinner {\n",
              "    border: 2px solid var(--fill-color);\n",
              "    border-color: transparent;\n",
              "    border-bottom-color: var(--fill-color);\n",
              "    animation:\n",
              "      spin 1s steps(1) infinite;\n",
              "  }\n",
              "\n",
              "  @keyframes spin {\n",
              "    0% {\n",
              "      border-color: transparent;\n",
              "      border-bottom-color: var(--fill-color);\n",
              "      border-left-color: var(--fill-color);\n",
              "    }\n",
              "    20% {\n",
              "      border-color: transparent;\n",
              "      border-left-color: var(--fill-color);\n",
              "      border-top-color: var(--fill-color);\n",
              "    }\n",
              "    30% {\n",
              "      border-color: transparent;\n",
              "      border-left-color: var(--fill-color);\n",
              "      border-top-color: var(--fill-color);\n",
              "      border-right-color: var(--fill-color);\n",
              "    }\n",
              "    40% {\n",
              "      border-color: transparent;\n",
              "      border-right-color: var(--fill-color);\n",
              "      border-top-color: var(--fill-color);\n",
              "    }\n",
              "    60% {\n",
              "      border-color: transparent;\n",
              "      border-right-color: var(--fill-color);\n",
              "    }\n",
              "    80% {\n",
              "      border-color: transparent;\n",
              "      border-right-color: var(--fill-color);\n",
              "      border-bottom-color: var(--fill-color);\n",
              "    }\n",
              "    90% {\n",
              "      border-color: transparent;\n",
              "      border-bottom-color: var(--fill-color);\n",
              "    }\n",
              "  }\n",
              "</style>\n",
              "\n",
              "  <script>\n",
              "    async function quickchart(key) {\n",
              "      const quickchartButtonEl =\n",
              "        document.querySelector('#' + key + ' button');\n",
              "      quickchartButtonEl.disabled = true;  // To prevent multiple clicks.\n",
              "      quickchartButtonEl.classList.add('colab-df-spinner');\n",
              "      try {\n",
              "        const charts = await google.colab.kernel.invokeFunction(\n",
              "            'suggestCharts', [key], {});\n",
              "      } catch (error) {\n",
              "        console.error('Error during call to suggestCharts:', error);\n",
              "      }\n",
              "      quickchartButtonEl.classList.remove('colab-df-spinner');\n",
              "      quickchartButtonEl.classList.add('colab-df-quickchart-complete');\n",
              "    }\n",
              "    (() => {\n",
              "      let quickchartButtonEl =\n",
              "        document.querySelector('#df-b7565eeb-270d-4920-b846-0ab581d2ba39 button');\n",
              "      quickchartButtonEl.style.display =\n",
              "        google.colab.kernel.accessAllowed ? 'block' : 'none';\n",
              "    })();\n",
              "  </script>\n",
              "</div>\n",
              "    </div>\n",
              "  </div>\n"
            ]
          },
          "metadata": {},
          "execution_count": 8
        }
      ],
      "source": [
        "df.describe()"
      ]
    },
    {
      "cell_type": "code",
      "execution_count": null,
      "metadata": {
        "colab": {
          "base_uri": "https://localhost:8080/"
        },
        "id": "KEcTf9Nl73Xz",
        "outputId": "c1b3a818-3bba-4e36-d4d8-e28fc9f1b43a"
      },
      "outputs": [
        {
          "output_type": "execute_result",
          "data": {
            "text/plain": [
              "237"
            ]
          },
          "metadata": {},
          "execution_count": 9
        }
      ],
      "source": [
        "df['Country'].nunique()"
      ]
    },
    {
      "cell_type": "code",
      "execution_count": null,
      "metadata": {
        "colab": {
          "base_uri": "https://localhost:8080/"
        },
        "id": "6_gE-bch7_j-",
        "outputId": "f698bf8f-6665-4da7-899a-a6f8b942734d"
      },
      "outputs": [
        {
          "output_type": "execute_result",
          "data": {
            "text/plain": [
              "969"
            ]
          },
          "metadata": {},
          "execution_count": 10
        }
      ],
      "source": [
        "df['City'].nunique()"
      ]
    },
    {
      "cell_type": "code",
      "source": [
        "df.isnull().sum()"
      ],
      "metadata": {
        "colab": {
          "base_uri": "https://localhost:8080/"
        },
        "id": "pnFG-nB0Ia7w",
        "outputId": "a142938a-de49-4e9e-d12e-527c1a3bae12"
      },
      "execution_count": null,
      "outputs": [
        {
          "output_type": "execute_result",
          "data": {
            "text/plain": [
              "Daily Time Spent on Site    0\n",
              "Age                         0\n",
              "Area Income                 0\n",
              "Daily Internet Usage        0\n",
              "Ad Topic Line               0\n",
              "City                        0\n",
              "Male                        0\n",
              "Country                     0\n",
              "Timestamp                   0\n",
              "Clicked on Ad               0\n",
              "dtype: int64"
            ]
          },
          "metadata": {},
          "execution_count": 11
        }
      ]
    },
    {
      "cell_type": "markdown",
      "source": [
        "There are no null values."
      ],
      "metadata": {
        "id": "WUm9To3hPlKv"
      }
    },
    {
      "cell_type": "markdown",
      "source": [
        "Mean daily internet usage of consumers who clicked and did not click on ad"
      ],
      "metadata": {
        "id": "a1jrfGf_WD6w"
      }
    },
    {
      "cell_type": "code",
      "source": [
        "df.groupby('Clicked on Ad').mean()['Daily Internet Usage']"
      ],
      "metadata": {
        "colab": {
          "base_uri": "https://localhost:8080/"
        },
        "id": "IoHxs2fXHDfM",
        "outputId": "b527ddc9-06e7-4642-c153-b19d6a912ade"
      },
      "execution_count": null,
      "outputs": [
        {
          "output_type": "stream",
          "name": "stderr",
          
        },
        {
          "output_type": "execute_result",
          "data": {
            "text/plain": [
              "Clicked on Ad\n",
              "0    214.51374\n",
              "1    145.48646\n",
              "Name: Daily Internet Usage, dtype: float64"
            ]
          },
          "metadata": {},
          "execution_count": 12
        }
      ]
    },
    {
      "cell_type": "markdown",
      "source": [
        "Mean daily time spent on site by consumers who clicked and did not click on ad"
      ],
      "metadata": {
        "id": "vEufr-qEWPUG"
      }
    },
    {
      "cell_type": "code",
      "source": [
        "df.groupby('Clicked on Ad').mean()['Daily Time Spent on Site']"
      ],
      "metadata": {
        "colab": {
          "base_uri": "https://localhost:8080/"
        },
        "id": "8OBkUcOHToKz",
        "outputId": "ba46c529-d5f2-4bc5-9eff-a02731e23744"
      },
      "execution_count": null,
      "outputs": [
        {
          "output_type": "stream",
          "name": "stderr",
          
        },
        {
          "output_type": "execute_result",
          "data": {
            "text/plain": [
              "Clicked on Ad\n",
              "0    76.85462\n",
              "1    53.14578\n",
              "Name: Daily Time Spent on Site, dtype: float64"
            ]
          },
          "metadata": {},
          "execution_count": 13
        }
      ]
    },
    {
      "cell_type": "markdown",
      "metadata": {
        "id": "p761jK6cgv2Q"
      },
      "source": [
        "**Data visualization**"
      ]
    },
    {
      "cell_type": "code",
      "execution_count": null,
      "metadata": {
        "colab": {
          "base_uri": "https://localhost:8080/",
          "height": 486
        },
        "id": "UYWonX5bg6_l",
        "outputId": "45f95ae5-7856-4534-ec42-c26c5ed332a8"
      },
      "outputs": [
        {
          "output_type": "execute_result",
          "data": {
            "text/plain": [
              "<matplotlib.legend.Legend at 0x7f70b0a2bd90>"
            ]
          },
          "metadata": {},
          "execution_count": 32
        },
        {
          "output_type": "display_data",
          "data": {
            "text/plain": [
              "<Figure size 500x500 with 1 Axes>"
            ],
            "image/png": "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\n"
          },
          "metadata": {}
        }
      ],
      "source": [
        "#Understanding how many consumers of different ages clicked on the ad\n",
        "kids = (df['Age']>0) & (df['Age']<=18)\n",
        "young = (df['Age']>18) & (df['Age']<=30)\n",
        "midage = (df['Age']>30) & (df['Age']<=50)\n",
        "old = (df['Age']>50)\n",
        "clicked = [( np.sum(kids & df['Clicked on Ad'] == 1)), np.sum(young & df['Clicked on Ad'] ==1), np.sum(midage & df['Clicked on Ad'] ==1), np.sum(old & df['Clicked on Ad'] ==1) ]\n",
        "did_not_click = [( np.sum(kids & df['Clicked on Ad'] == 0)), np.sum(young & df['Clicked on Ad'] ==0), np.sum(midage & df['Clicked on Ad'] ==0), np.sum(old & df['Clicked on Ad'] ==0)]\n",
        "\n",
        "x_axis = np.arange(4)\n",
        "\n",
        "plt.rcParams['figure.figsize'] = [5,5]\n",
        "plt.bar(x_axis,clicked ,color = 'yellow',\n",
        "        width = 0.25, edgecolor = 'black',\n",
        "        label='Clicked on ad')\n",
        "plt.bar(x_axis+0.25 ,did_not_click,color = 'red',\n",
        "        width = 0.25, edgecolor = 'black',\n",
        "        label='Did not click on ad')\n",
        "plt.xticks(x_axis + 0.25/2,['Kids','Young','Midage','Old'])\n",
        "plt.ylabel('Count')\n",
        "plt.title('Age wise count of consumers who clicked and did not click on ad')\n",
        "plt.legend()"
      ]
    },
    {
      "cell_type": "markdown",
      "metadata": {
        "id": "BERcjPYNCT7-"
      },
      "source": [
        "It can be concluded that middle-aged people have mostly clicked on the adds."
      ]
    },
    {
      "cell_type": "code",
      "execution_count": null,
      "metadata": {
        "colab": {
          "base_uri": "https://localhost:8080/",
          "height": 486
        },
        "id": "o_qGZOnHsggW",
        "outputId": "cd8dda3a-8a7e-4abf-dd0b-93b2accde8c2"
      },
      "outputs": [
        {
          "output_type": "execute_result",
          "data": {
            "text/plain": [
              "<matplotlib.legend.Legend at 0x7f70b0a2bee0>"
            ]
          },
          "metadata": {},
          "execution_count": 31
        },
        {
          "output_type": "display_data",
          "data": {
            "text/plain": [
              "<Figure size 500x500 with 1 Axes>"
            ],
            "image/png": "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\n"
          },
          "metadata": {}
        }
      ],
      "source": [
        "data = df.groupby(['Clicked on Ad','Male']).size()\n",
        "women = [data[0][0],data[1][0]]\n",
        "men = [data[0][1],data[1][1]]\n",
        "x_axis = np.arange(2)\n",
        "plt.rcParams['figure.figsize'] = [5, 5]\n",
        "plt.bar(x_axis,women,color = 'g',\n",
        "        width = 0.25, edgecolor = 'black',\n",
        "        label='Women')\n",
        "plt.bar(x_axis+0.25 ,men,color = 'b',\n",
        "        width = 0.25, edgecolor = 'black',\n",
        "        label='Men')\n",
        "plt.xticks(x_axis + 0.25/2,['Did not click on ad','Clicked on ad'])\n",
        "plt.ylabel('Count')\n",
        "plt.title('Gender wise count of men and women who clicked and did not click on ad')\n",
        "plt.legend()"
      ]
    },
    {
      "cell_type": "markdown",
      "metadata": {
        "id": "Bbs1JeJoCawd"
      },
      "source": [
        "It can be concluded that men and women have almost equally clicked on ads, i.e., gender does not really affect the probability of a consumer to click on an add."
      ]
    },
    {
      "cell_type": "markdown",
      "metadata": {
        "id": "dENP-lnZA65j"
      },
      "source": [
        "# Splitting input and output data"
      ]
    },
    {
      "cell_type": "code",
      "execution_count": null,
      "metadata": {
        "colab": {
          "base_uri": "https://localhost:8080/",
          "height": 362
        },
        "id": "dWNpSh31hFeO",
        "outputId": "7dcf9ecc-54dd-4512-9fbd-2798eeb0e04d"
      },
      "outputs": [
        {
          "output_type": "execute_result",
          "data": {
            "text/plain": [
              "   Daily Time Spent on Site  Age  Area Income  Daily Internet Usage\n",
              "0                     68.95   35     61833.90                256.09\n",
              "1                     80.23   31     68441.85                193.77\n",
              "2                     69.47   26     59785.94                236.50\n",
              "3                     74.15   29     54806.18                245.89\n",
              "4                     68.37   35     73889.99                225.58\n",
              "5                     59.99   23     59761.56                226.74\n",
              "6                     88.91   33     53852.85                208.36\n",
              "7                     66.00   48     24593.33                131.76\n",
              "8                     74.53   30     68862.00                221.51\n",
              "9                     69.88   20     55642.32                183.82"
            ],
            "text/html": [
              "\n",
              "  <div id=\"df-0b7fead5-1f44-4279-8f57-509d8bed6308\" class=\"colab-df-container\">\n",
              "    <div>\n",
              "<style scoped>\n",
              "    .dataframe tbody tr th:only-of-type {\n",
              "        vertical-align: middle;\n",
              "    }\n",
              "\n",
              "    .dataframe tbody tr th {\n",
              "        vertical-align: top;\n",
              "    }\n",
              "\n",
              "    .dataframe thead th {\n",
              "        text-align: right;\n",
              "    }\n",
              "</style>\n",
              "<table border=\"1\" class=\"dataframe\">\n",
              "  <thead>\n",
              "    <tr style=\"text-align: right;\">\n",
              "      <th></th>\n",
              "      <th>Daily Time Spent on Site</th>\n",
              "      <th>Age</th>\n",
              "      <th>Area Income</th>\n",
              "      <th>Daily Internet Usage</th>\n",
              "    </tr>\n",
              "  </thead>\n",
              "  <tbody>\n",
              "    <tr>\n",
              "      <th>0</th>\n",
              "      <td>68.95</td>\n",
              "      <td>35</td>\n",
              "      <td>61833.90</td>\n",
              "      <td>256.09</td>\n",
              "    </tr>\n",
              "    <tr>\n",
              "      <th>1</th>\n",
              "      <td>80.23</td>\n",
              "      <td>31</td>\n",
              "      <td>68441.85</td>\n",
              "      <td>193.77</td>\n",
              "    </tr>\n",
              "    <tr>\n",
              "      <th>2</th>\n",
              "      <td>69.47</td>\n",
              "      <td>26</td>\n",
              "      <td>59785.94</td>\n",
              "      <td>236.50</td>\n",
              "    </tr>\n",
              "    <tr>\n",
              "      <th>3</th>\n",
              "      <td>74.15</td>\n",
              "      <td>29</td>\n",
              "      <td>54806.18</td>\n",
              "      <td>245.89</td>\n",
              "    </tr>\n",
              "    <tr>\n",
              "      <th>4</th>\n",
              "      <td>68.37</td>\n",
              "      <td>35</td>\n",
              "      <td>73889.99</td>\n",
              "      <td>225.58</td>\n",
              "    </tr>\n",
              "    <tr>\n",
              "      <th>5</th>\n",
              "      <td>59.99</td>\n",
              "      <td>23</td>\n",
              "      <td>59761.56</td>\n",
              "      <td>226.74</td>\n",
              "    </tr>\n",
              "    <tr>\n",
              "      <th>6</th>\n",
              "      <td>88.91</td>\n",
              "      <td>33</td>\n",
              "      <td>53852.85</td>\n",
              "      <td>208.36</td>\n",
              "    </tr>\n",
              "    <tr>\n",
              "      <th>7</th>\n",
              "      <td>66.00</td>\n",
              "      <td>48</td>\n",
              "      <td>24593.33</td>\n",
              "      <td>131.76</td>\n",
              "    </tr>\n",
              "    <tr>\n",
              "      <th>8</th>\n",
              "      <td>74.53</td>\n",
              "      <td>30</td>\n",
              "      <td>68862.00</td>\n",
              "      <td>221.51</td>\n",
              "    </tr>\n",
              "    <tr>\n",
              "      <th>9</th>\n",
              "      <td>69.88</td>\n",
              "      <td>20</td>\n",
              "      <td>55642.32</td>\n",
              "      <td>183.82</td>\n",
              "    </tr>\n",
              "  </tbody>\n",
              "</table>\n",
              "</div>\n",
              "    <div class=\"colab-df-buttons\">\n",
              "\n",
              "  <div class=\"colab-df-container\">\n",
              "    <button class=\"colab-df-convert\" onclick=\"convertToInteractive('df-0b7fead5-1f44-4279-8f57-509d8bed6308')\"\n",
              "            title=\"Convert this dataframe to an interactive table.\"\n",
              "            style=\"display:none;\">\n",
              "\n",
              "  <svg xmlns=\"http://www.w3.org/2000/svg\" height=\"24px\" viewBox=\"0 -960 960 960\">\n",
              "    <path d=\"M120-120v-720h720v720H120Zm60-500h600v-160H180v160Zm220 220h160v-160H400v160Zm0 220h160v-160H400v160ZM180-400h160v-160H180v160Zm440 0h160v-160H620v160ZM180-180h160v-160H180v160Zm440 0h160v-160H620v160Z\"/>\n",
              "  </svg>\n",
              "    </button>\n",
              "\n",
              "  <style>\n",
              "    .colab-df-container {\n",
              "      display:flex;\n",
              "      gap: 12px;\n",
              "    }\n",
              "\n",
              "    .colab-df-convert {\n",
              "      background-color: #E8F0FE;\n",
              "      border: none;\n",
              "      border-radius: 50%;\n",
              "      cursor: pointer;\n",
              "      display: none;\n",
              "      fill: #1967D2;\n",
              "      height: 32px;\n",
              "      padding: 0 0 0 0;\n",
              "      width: 32px;\n",
              "    }\n",
              "\n",
              "    .colab-df-convert:hover {\n",
              "      background-color: #E2EBFA;\n",
              "      box-shadow: 0px 1px 2px rgba(60, 64, 67, 0.3), 0px 1px 3px 1px rgba(60, 64, 67, 0.15);\n",
              "      fill: #174EA6;\n",
              "    }\n",
              "\n",
              "    .colab-df-buttons div {\n",
              "      margin-bottom: 4px;\n",
              "    }\n",
              "\n",
              "    [theme=dark] .colab-df-convert {\n",
              "      background-color: #3B4455;\n",
              "      fill: #D2E3FC;\n",
              "    }\n",
              "\n",
              "    [theme=dark] .colab-df-convert:hover {\n",
              "      background-color: #434B5C;\n",
              "      box-shadow: 0px 1px 3px 1px rgba(0, 0, 0, 0.15);\n",
              "      filter: drop-shadow(0px 1px 2px rgba(0, 0, 0, 0.3));\n",
              "      fill: #FFFFFF;\n",
              "    }\n",
              "  </style>\n",
              "\n",
              "    <script>\n",
              "      const buttonEl =\n",
              "        document.querySelector('#df-0b7fead5-1f44-4279-8f57-509d8bed6308 button.colab-df-convert');\n",
              "      buttonEl.style.display =\n",
              "        google.colab.kernel.accessAllowed ? 'block' : 'none';\n",
              "\n",
              "      async function convertToInteractive(key) {\n",
              "        const element = document.querySelector('#df-0b7fead5-1f44-4279-8f57-509d8bed6308');\n",
              "        const dataTable =\n",
              "          await google.colab.kernel.invokeFunction('convertToInteractive',\n",
              "                                                    [key], {});\n",
              "        if (!dataTable) return;\n",
              "\n",
              "        const docLinkHtml = 'Like what you see? Visit the ' +\n",
              "          '<a target=\"_blank\" href=https://colab.research.google.com/notebooks/data_table.ipynb>data table notebook</a>'\n",
              "          + ' to learn more about interactive tables.';\n",
              "        element.innerHTML = '';\n",
              "        dataTable['output_type'] = 'display_data';\n",
              "        await google.colab.output.renderOutput(dataTable, element);\n",
              "        const docLink = document.createElement('div');\n",
              "        docLink.innerHTML = docLinkHtml;\n",
              "        element.appendChild(docLink);\n",
              "      }\n",
              "    </script>\n",
              "  </div>\n",
              "\n",
              "\n",
              "<div id=\"df-b84ab030-7d32-42dd-a488-6164e0d10daa\">\n",
              "  <button class=\"colab-df-quickchart\" onclick=\"quickchart('df-b84ab030-7d32-42dd-a488-6164e0d10daa')\"\n",
              "            title=\"Suggest charts.\"\n",
              "            style=\"display:none;\">\n",
              "\n",
              "<svg xmlns=\"http://www.w3.org/2000/svg\" height=\"24px\"viewBox=\"0 0 24 24\"\n",
              "     width=\"24px\">\n",
              "    <g>\n",
              "        <path d=\"M19 3H5c-1.1 0-2 .9-2 2v14c0 1.1.9 2 2 2h14c1.1 0 2-.9 2-2V5c0-1.1-.9-2-2-2zM9 17H7v-7h2v7zm4 0h-2V7h2v10zm4 0h-2v-4h2v4z\"/>\n",
              "    </g>\n",
              "</svg>\n",
              "  </button>\n",
              "\n",
              "<style>\n",
              "  .colab-df-quickchart {\n",
              "      --bg-color: #E8F0FE;\n",
              "      --fill-color: #1967D2;\n",
              "      --hover-bg-color: #E2EBFA;\n",
              "      --hover-fill-color: #174EA6;\n",
              "      --disabled-fill-color: #AAA;\n",
              "      --disabled-bg-color: #DDD;\n",
              "  }\n",
              "\n",
              "  [theme=dark] .colab-df-quickchart {\n",
              "      --bg-color: #3B4455;\n",
              "      --fill-color: #D2E3FC;\n",
              "      --hover-bg-color: #434B5C;\n",
              "      --hover-fill-color: #FFFFFF;\n",
              "      --disabled-bg-color: #3B4455;\n",
              "      --disabled-fill-color: #666;\n",
              "  }\n",
              "\n",
              "  .colab-df-quickchart {\n",
              "    background-color: var(--bg-color);\n",
              "    border: none;\n",
              "    border-radius: 50%;\n",
              "    cursor: pointer;\n",
              "    display: none;\n",
              "    fill: var(--fill-color);\n",
              "    height: 32px;\n",
              "    padding: 0;\n",
              "    width: 32px;\n",
              "  }\n",
              "\n",
              "  .colab-df-quickchart:hover {\n",
              "    background-color: var(--hover-bg-color);\n",
              "    box-shadow: 0 1px 2px rgba(60, 64, 67, 0.3), 0 1px 3px 1px rgba(60, 64, 67, 0.15);\n",
              "    fill: var(--button-hover-fill-color);\n",
              "  }\n",
              "\n",
              "  .colab-df-quickchart-complete:disabled,\n",
              "  .colab-df-quickchart-complete:disabled:hover {\n",
              "    background-color: var(--disabled-bg-color);\n",
              "    fill: var(--disabled-fill-color);\n",
              "    box-shadow: none;\n",
              "  }\n",
              "\n",
              "  .colab-df-spinner {\n",
              "    border: 2px solid var(--fill-color);\n",
              "    border-color: transparent;\n",
              "    border-bottom-color: var(--fill-color);\n",
              "    animation:\n",
              "      spin 1s steps(1) infinite;\n",
              "  }\n",
              "\n",
              "  @keyframes spin {\n",
              "    0% {\n",
              "      border-color: transparent;\n",
              "      border-bottom-color: var(--fill-color);\n",
              "      border-left-color: var(--fill-color);\n",
              "    }\n",
              "    20% {\n",
              "      border-color: transparent;\n",
              "      border-left-color: var(--fill-color);\n",
              "      border-top-color: var(--fill-color);\n",
              "    }\n",
              "    30% {\n",
              "      border-color: transparent;\n",
              "      border-left-color: var(--fill-color);\n",
              "      border-top-color: var(--fill-color);\n",
              "      border-right-color: var(--fill-color);\n",
              "    }\n",
              "    40% {\n",
              "      border-color: transparent;\n",
              "      border-right-color: var(--fill-color);\n",
              "      border-top-color: var(--fill-color);\n",
              "    }\n",
              "    60% {\n",
              "      border-color: transparent;\n",
              "      border-right-color: var(--fill-color);\n",
              "    }\n",
              "    80% {\n",
              "      border-color: transparent;\n",
              "      border-right-color: var(--fill-color);\n",
              "      border-bottom-color: var(--fill-color);\n",
              "    }\n",
              "    90% {\n",
              "      border-color: transparent;\n",
              "      border-bottom-color: var(--fill-color);\n",
              "    }\n",
              "  }\n",
              "</style>\n",
              "\n",
              "  <script>\n",
              "    async function quickchart(key) {\n",
              "      const quickchartButtonEl =\n",
              "        document.querySelector('#' + key + ' button');\n",
              "      quickchartButtonEl.disabled = true;  // To prevent multiple clicks.\n",
              "      quickchartButtonEl.classList.add('colab-df-spinner');\n",
              "      try {\n",
              "        const charts = await google.colab.kernel.invokeFunction(\n",
              "            'suggestCharts', [key], {});\n",
              "      } catch (error) {\n",
              "        console.error('Error during call to suggestCharts:', error);\n",
              "      }\n",
              "      quickchartButtonEl.classList.remove('colab-df-spinner');\n",
              "      quickchartButtonEl.classList.add('colab-df-quickchart-complete');\n",
              "    }\n",
              "    (() => {\n",
              "      let quickchartButtonEl =\n",
              "        document.querySelector('#df-b84ab030-7d32-42dd-a488-6164e0d10daa button');\n",
              "      quickchartButtonEl.style.display =\n",
              "        google.colab.kernel.accessAllowed ? 'block' : 'none';\n",
              "    })();\n",
              "  </script>\n",
              "</div>\n",
              "    </div>\n",
              "  </div>\n"
            ]
          },
          "metadata": {},
          "execution_count": 16
        }
      ],
      "source": [
        "x = df[['Daily Time Spent on Site',\t'Age',\t'Area Income',\t'Daily Internet Usage']]\n",
        "x[0:10]"
      ]
    },
    {
      "cell_type": "code",
      "execution_count": null,
      "metadata": {
        "colab": {
          "base_uri": "https://localhost:8080/"
        },
        "id": "DudS6NpRhfOg",
        "outputId": "f2bc232c-5638-473b-f231-b6f46460b9c2"
      },
      "outputs": [
        {
          "output_type": "execute_result",
          "data": {
            "text/plain": [
              "0    0\n",
              "1    0\n",
              "2    0\n",
              "3    0\n",
              "4    0\n",
              "5    0\n",
              "6    0\n",
              "7    1\n",
              "8    0\n",
              "9    0\n",
              "Name: Clicked on Ad, dtype: int64"
            ]
          },
          "metadata": {},
          "execution_count": 17
        }
      ],
      "source": [
        "y = df['Clicked on Ad']\n",
        "y[0:10]"
      ]
    },
    {
      "cell_type": "markdown",
      "metadata": {
        "id": "S6FrTY6YBAs8"
      },
      "source": [
        "# Splitting training and testing data"
      ]
    },
    {
      "cell_type": "code",
      "execution_count": null,
      "metadata": {
        "id": "DU7WIrOu4Hm8"
      },
      "outputs": [],
      "source": [
        "from sklearn.model_selection import train_test_split\n",
        "x_train,x_test,y_train,y_test = train_test_split(x,y,random_state = 0)"
      ]
    },
    {
      "cell_type": "code",
      "execution_count": null,
      "metadata": {
        "colab": {
          "base_uri": "https://localhost:8080/"
        },
        "id": "MgU_p8Qqh0A1",
        "outputId": "fcc762e1-2e85-439f-e78a-924c08c7bd90"
      },
      "outputs": [
        {
          "output_type": "execute_result",
          "data": {
            "text/plain": [
              "(750, 4)"
            ]
          },
          "metadata": {},
          "execution_count": 19
        }
      ],
      "source": [
        "x_train.shape"
      ]
    },
    {
      "cell_type": "code",
      "execution_count": null,
      "metadata": {
        "colab": {
          "base_uri": "https://localhost:8080/"
        },
        "id": "2h3j_7S3h38F",
        "outputId": "f3dc5616-8537-48cd-f348-8a2409f5743c"
      },
      "outputs": [
        {
          "output_type": "execute_result",
          "data": {
            "text/plain": [
              "(250, 4)"
            ]
          },
          "metadata": {},
          "execution_count": 20
        }
      ],
      "source": [
        "x_test.shape"
      ]
    },
    {
      "cell_type": "markdown",
      "metadata": {
        "id": "NEL17gYJBFHJ"
      },
      "source": [
        "# Applying the Regressor"
      ]
    },
    {
      "cell_type": "code",
      "execution_count": null,
      "metadata": {
        "id": "Kojjffw9h5HD"
      },
      "outputs": [],
      "source": [
        "from sklearn.linear_model import LogisticRegression\n",
        "model = LogisticRegression()"
      ]
    },
    {
      "cell_type": "markdown",
      "metadata": {
        "id": "fOpNMBtxBI9N"
      },
      "source": [
        "# Fitting the model"
      ]
    },
    {
      "cell_type": "code",
      "execution_count": null,
      "metadata": {
        "colab": {
          "base_uri": "https://localhost:8080/",
          "height": 74
        },
        "id": "BjkCum8siNTW",
        "outputId": "a4b451df-de55-420b-9057-6d536e0e87f5"
      },
      "outputs": [
        {
          "output_type": "execute_result",
          "data": {
            "text/plain": [
              "LogisticRegression()"
            ],
            "text/html": [
              "<style>#sk-container-id-1 {color: black;background-color: white;}#sk-container-id-1 pre{padding: 0;}#sk-container-id-1 div.sk-toggleable {background-color: white;}#sk-container-id-1 label.sk-toggleable__label {cursor: pointer;display: block;width: 100%;margin-bottom: 0;padding: 0.3em;box-sizing: border-box;text-align: center;}#sk-container-id-1 label.sk-toggleable__label-arrow:before {content: \"▸\";float: left;margin-right: 0.25em;color: #696969;}#sk-container-id-1 label.sk-toggleable__label-arrow:hover:before {color: black;}#sk-container-id-1 div.sk-estimator:hover label.sk-toggleable__label-arrow:before {color: black;}#sk-container-id-1 div.sk-toggleable__content {max-height: 0;max-width: 0;overflow: hidden;text-align: left;background-color: #f0f8ff;}#sk-container-id-1 div.sk-toggleable__content pre {margin: 0.2em;color: black;border-radius: 0.25em;background-color: #f0f8ff;}#sk-container-id-1 input.sk-toggleable__control:checked~div.sk-toggleable__content {max-height: 200px;max-width: 100%;overflow: auto;}#sk-container-id-1 input.sk-toggleable__control:checked~label.sk-toggleable__label-arrow:before {content: \"▾\";}#sk-container-id-1 div.sk-estimator input.sk-toggleable__control:checked~label.sk-toggleable__label {background-color: #d4ebff;}#sk-container-id-1 div.sk-label input.sk-toggleable__control:checked~label.sk-toggleable__label {background-color: #d4ebff;}#sk-container-id-1 input.sk-hidden--visually {border: 0;clip: rect(1px 1px 1px 1px);clip: rect(1px, 1px, 1px, 1px);height: 1px;margin: -1px;overflow: hidden;padding: 0;position: absolute;width: 1px;}#sk-container-id-1 div.sk-estimator {font-family: monospace;background-color: #f0f8ff;border: 1px dotted black;border-radius: 0.25em;box-sizing: border-box;margin-bottom: 0.5em;}#sk-container-id-1 div.sk-estimator:hover {background-color: #d4ebff;}#sk-container-id-1 div.sk-parallel-item::after {content: \"\";width: 100%;border-bottom: 1px solid gray;flex-grow: 1;}#sk-container-id-1 div.sk-label:hover label.sk-toggleable__label {background-color: #d4ebff;}#sk-container-id-1 div.sk-serial::before {content: \"\";position: absolute;border-left: 1px solid gray;box-sizing: border-box;top: 0;bottom: 0;left: 50%;z-index: 0;}#sk-container-id-1 div.sk-serial {display: flex;flex-direction: column;align-items: center;background-color: white;padding-right: 0.2em;padding-left: 0.2em;position: relative;}#sk-container-id-1 div.sk-item {position: relative;z-index: 1;}#sk-container-id-1 div.sk-parallel {display: flex;align-items: stretch;justify-content: center;background-color: white;position: relative;}#sk-container-id-1 div.sk-item::before, #sk-container-id-1 div.sk-parallel-item::before {content: \"\";position: absolute;border-left: 1px solid gray;box-sizing: border-box;top: 0;bottom: 0;left: 50%;z-index: -1;}#sk-container-id-1 div.sk-parallel-item {display: flex;flex-direction: column;z-index: 1;position: relative;background-color: white;}#sk-container-id-1 div.sk-parallel-item:first-child::after {align-self: flex-end;width: 50%;}#sk-container-id-1 div.sk-parallel-item:last-child::after {align-self: flex-start;width: 50%;}#sk-container-id-1 div.sk-parallel-item:only-child::after {width: 0;}#sk-container-id-1 div.sk-dashed-wrapped {border: 1px dashed gray;margin: 0 0.4em 0.5em 0.4em;box-sizing: border-box;padding-bottom: 0.4em;background-color: white;}#sk-container-id-1 div.sk-label label {font-family: monospace;font-weight: bold;display: inline-block;line-height: 1.2em;}#sk-container-id-1 div.sk-label-container {text-align: center;}#sk-container-id-1 div.sk-container {/* jupyter's `normalize.less` sets `[hidden] { display: none; }` but bootstrap.min.css set `[hidden] { display: none !important; }` so we also need the `!important` here to be able to override the default hidden behavior on the sphinx rendered scikit-learn.org. See: https://github.com/scikit-learn/scikit-learn/issues/21755 */display: inline-block !important;position: relative;}#sk-container-id-1 div.sk-text-repr-fallback {display: none;}</style><div id=\"sk-container-id-1\" class=\"sk-top-container\"><div class=\"sk-text-repr-fallback\"><pre>LogisticRegression()</pre><b>In a Jupyter environment, please rerun this cell to show the HTML representation or trust the notebook. <br />On GitHub, the HTML representation is unable to render, please try loading this page with nbviewer.org.</b></div><div class=\"sk-container\" hidden><div class=\"sk-item\"><div class=\"sk-estimator sk-toggleable\"><input class=\"sk-toggleable__control sk-hidden--visually\" id=\"sk-estimator-id-1\" type=\"checkbox\" checked><label for=\"sk-estimator-id-1\" class=\"sk-toggleable__label sk-toggleable__label-arrow\">LogisticRegression</label><div class=\"sk-toggleable__content\"><pre>LogisticRegression()</pre></div></div></div></div></div>"
            ]
          },
          "metadata": {},
          "execution_count": 22
        }
      ],
      "source": [
        "model.fit(x_train,y_train)"
      ]
    },
    {
      "cell_type": "markdown",
      "metadata": {
        "id": "Xwq9chMQBLcr"
      },
      "source": [
        "# Predicting the output"
      ]
    },
    {
      "cell_type": "code",
      "execution_count": null,
      "metadata": {
        "colab": {
          "base_uri": "https://localhost:8080/"
        },
        "id": "fnhoA8HciFR8",
        "outputId": "14db4b05-0fe3-4cec-9797-177f55237678"
      },
      "outputs": [
        {
          "output_type": "execute_result",
          "data": {
            "text/plain": [
              "array([0, 0, 0, 1, 0, 1, 1, 1, 0, 0, 0, 0, 1, 0, 0, 0, 1, 0, 1, 0, 0, 0,\n",
              "       0, 1, 1, 0, 1, 0, 0, 0, 0, 1, 0, 1, 1, 0, 0, 0, 0, 0, 0, 1, 1, 0,\n",
              "       1, 0, 0, 1, 0, 1, 0, 0, 1, 1, 0, 1, 0, 1, 1, 1, 0, 0, 1, 1, 1, 1,\n",
              "       0, 1, 0, 1, 1, 0, 1, 1, 0, 0, 1, 0, 1, 0, 1, 1, 0, 1, 0, 0, 1, 0,\n",
              "       1, 0, 0, 1, 1, 0, 1, 1, 1, 1, 0, 1, 1, 0, 0, 1, 0, 1, 0, 1, 0, 0,\n",
              "       1, 1, 0, 1, 0, 0, 1, 0, 0, 1, 1, 0, 0, 0, 0, 0, 0, 0, 0, 1, 0, 0,\n",
              "       0, 1, 0, 0, 0, 0, 0, 1, 0, 1, 1, 0, 0, 1, 0, 0, 1, 1, 0, 0, 0, 1,\n",
              "       1, 1, 0, 0, 1, 1, 1, 0, 0, 1, 0, 0, 1, 1, 0, 0, 0, 0, 1, 0, 0, 0,\n",
              "       1, 0, 1, 1, 1, 0, 0, 1, 0, 1, 0, 1, 1, 0, 0, 1, 1, 0, 0, 1, 1, 0,\n",
              "       1, 0, 0, 1, 1, 0, 0, 0, 0, 0, 1, 1, 1, 0, 0, 0, 0, 1, 0, 0, 0, 1,\n",
              "       0, 0, 0, 0, 1, 0, 1, 0, 1, 1, 0, 0, 1, 1, 0, 1, 0, 1, 1, 0, 0, 1,\n",
              "       1, 1, 1, 0, 1, 0, 1, 0])"
            ]
          },
          "metadata": {},
          "execution_count": 23
        }
      ],
      "source": [
        "y_pred = model.predict(x_test)\n",
        "y_pred"
      ]
    },
    {
      "cell_type": "code",
      "execution_count": null,
      "metadata": {
        "colab": {
          "base_uri": "https://localhost:8080/"
        },
        "id": "2JbP04atiI77",
        "outputId": "7db52af1-e77a-485c-dabc-a6206dcf5f00"
      },
      "outputs": [
        {
          "output_type": "execute_result",
          "data": {
            "text/plain": [
              "993    0\n",
              "859    0\n",
              "298    0\n",
              "553    1\n",
              "672    0\n",
              "      ..\n",
              "462    0\n",
              "356    1\n",
              "2      0\n",
              "478    1\n",
              "695    0\n",
              "Name: Clicked on Ad, Length: 250, dtype: int64"
            ]
          },
          "metadata": {},
          "execution_count": 24
        }
      ],
      "source": [
        "y_test"
      ]
    },
    {
      "cell_type": "markdown",
      "metadata": {
        "id": "K-goffiFBO7-"
      },
      "source": [
        "# Checking the accuracy of the model"
      ]
    },
    {
      "cell_type": "code",
      "execution_count": null,
      "metadata": {
        "colab": {
          "base_uri": "https://localhost:8080/"
        },
        "id": "bA5yH4IIpSbX",
        "outputId": "5691c6e7-5309-4d24-9a7c-8c4e7ab3e997"
      },
      "outputs": [
        {
          "output_type": "execute_result",
          "data": {
            "text/plain": [
              "91.2"
            ]
          },
          "metadata": {},
          "execution_count": 25
        }
      ],
      "source": [
        "from sklearn.metrics import accuracy_score\n",
        "accuracy_score(y_pred,y_test)*100"
      ]
    },
    {
      "cell_type": "markdown",
      "metadata": {
        "id": "bmnp5pPMBSIn"
      },
      "source": [
        "# Individual prediction"
      ]
    },
    {
      "cell_type": "code",
      "execution_count": null,
      "metadata": {
        "colab": {
          "base_uri": "https://localhost:8080/"
        },
        "id": "i3ODcjjIpiM8",
        "outputId": "1eb1afef-9a12-400a-e79f-28d11b67576c"
      },
      "outputs": [
        {
          "output_type": "stream",
          "name": "stderr",
          
        },
        {
          "output_type": "execute_result",
          "data": {
            "text/plain": [
              "array([1])"
            ]
          },
          "metadata": {},
          "execution_count": 26
        }
      ],
      "source": [
        "model.predict([[71.33,\t43,\t62213.90,\t241.09]])"
      ]
    },
    {
      "cell_type": "markdown",
      "metadata": {
        "id": "ev1Oq8_uBbPP"
      },
      "source": [
        "The prediction implies that the consumer is likely to click on the advertisement."
      ]
    },
    {
      "cell_type": "code",
      "source": [],
      "metadata": {
        "id": "ZZ9O9lNZMAat"
      },
      "execution_count": null,
      "outputs": []
    }
  ],
  "metadata": {
    "colab": {
      "provenance": [],
      "mount_file_id": "1pZoerXgE2M17mNKTGjg2KQvotDCKXOuI",
      "authorship_tag": "ABX9TyN8P0S3cIXVBx5QBPxL6h/X",
      "include_colab_link": true
    },
    "kernelspec": {
      "display_name": "Python 3",
      "name": "python3"
    },
    "language_info": {
      "name": "python"
    }
  },
  "nbformat": 4,
  "nbformat_minor": 0
}
